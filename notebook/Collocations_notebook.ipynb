{
 "cells": [
  {
   "cell_type": "code",
   "execution_count": 7,
   "metadata": {},
   "outputs": [],
   "source": [
    "#Import packages\n",
    "import re\n",
    "import string\n",
    "import pandas as pd\n",
    "import math\n",
    "import os\n"
   ]
  },
  {
   "cell_type": "code",
   "execution_count": 8,
   "metadata": {},
   "outputs": [],
   "source": [
    "wines = pd.read_csv(\"Wine_reviews.csv\") #import datset\n",
    "txts = [desc for desc in wines.description[0:10000]] #Extract first 10.000 reviews\n"
   ]
  },
  {
   "cell_type": "code",
   "execution_count": 12,
   "metadata": {},
   "outputs": [],
   "source": [
    "def get_info(texts, word = \"\", window = 5):\n",
    "    all_collocations = pd.DataFrame(columns=[\"raw_freq\", \"MI\", \"Col\"]) #Making empty dataframe to store results\n",
    "\n",
    "    clean_text = [re.sub(r\"\\W+\", \" \", txt) for txt in txts] #Cleaning the texts so they only include letters and spaces\n",
    "    \n",
    "    all_words=[] #Creating empty list for all words present in the corpus\n",
    "\n",
    "    for txt in clean_txt:\n",
    "        all_words= all_words+txt.split() #Loop through each text and extract all the words\n",
    "        \n",
    "    all_words = list(set(all_words)) #Select unique words by making the list into a set, and back\n",
    "    all_words.remove(word) #Remove the target word from the list\n",
    "    \n",
    "    \n",
    "    for col in all_words: #Loop through all words in the corpus\n",
    "        res_dict = {'wordcol':0, 'no_wordcol':0, 'no_wordno_col':0, 'wordno_col':0} #Make empty dictionary to store results\n",
    "                                                                                    \n",
    "        MI=0 #Set MI score to 0\n",
    "        \n",
    "        for text in texts: #Loop through each text in the corpus \n",
    "            word_indicator = \"no_word\" #Create indicator of whether the target word is present\n",
    "            collocate_indicator =\"no_col\" #Create indicator of whether the collocate is present\n",
    "            split_text = text.split() #Split the text\n",
    "            if word in split_text: #If the target word is in the text do the following\n",
    "                    word_indicator = \"word\" #Change target word_indicator from 'no_word' to 'word'\n",
    "                    start = max(0,split_text.index(word)-window) #Make start variable to indicate the start of the window\n",
    "                    end = split_text.index(word)+window #Make end variable to indicate the end of the window\n",
    "                    shortened_text = split_text[start:end] #Make the window\n",
    "                    if col in shortened_text: #If the collocate is in the window\n",
    "                        collocate_indicator = \"col\" #Change collocate_indicator from 'no_col' to 'col'\n",
    "                        \n",
    "            if text.find(col)!= -1:   \n",
    "                if word_indicator==\"no_word\": #If collocate is in the text and target word isn't do this \n",
    "                    collocate_indicator = \"col\" #Change collocate_indicator from 'no_col' to 'col'\n",
    "\n",
    "            res_dict[word_indicator+collocate_indicator] += 1 #Change value in res_dict (all texts will have a word_indicator\n",
    "                                                              #of either 'word' or 'no_word' and a collocate_indicator of either\n",
    "                                                              #'col' or 'no_col'. When they are pasted together, they represent \n",
    "                                                              #the four categories in the res_dict \n",
    "        \n",
    "        R1 = res_dict[\"wordcol\"]+res_dict[\"wordno_col\"] #Calculate R1-score\n",
    "        C1 = res_dict[\"no_wordcol\"]+res_dict[\"wordcol\"] #Calculate C1-score\n",
    "        C2 = res_dict[\"wordno_col\"]+res_dict[\"no_wordno_col\"] #Calculate C2-score\n",
    "        E11 = (R1*C1)/(C1+C2) #Calculate E11-score\n",
    "    \n",
    "        if E11 > 0: #if statements to avoid dividing by zero\n",
    "            if res_dict[\"wordcol\"]>0:\n",
    "                MI = math.log((res_dict[\"wordcol\"]/E11)) #Calculate MI-score\n",
    "\n",
    "        raw_freq = res_dict[\"wordcol\"] #Extract raw frequency (when word and collocate appear together)\n",
    "        all_collocations_length = len(all_collocations) #Add info to dataframe\n",
    "        all_collocations.loc[all_collocations_length] = [raw_freq, MI,col]\n",
    "    \n",
    "    return all_collocations #return dataframe\n"
   ]
  },
  {
   "cell_type": "code",
   "execution_count": 14,
   "metadata": {},
   "outputs": [],
   "source": [
    "collies = get_info(txts, word = \"fruity\", window=5) #Get collocations for the word fruity, with a window of 5 words."
   ]
  },
  {
   "cell_type": "code",
   "execution_count": 15,
   "metadata": {},
   "outputs": [],
   "source": [
    "collies.to_csv(\"fruity_collocates.csv\")"
   ]
  }
 ],
 "metadata": {
  "kernelspec": {
   "display_name": "lang101",
   "language": "python",
   "name": "lang101"
  },
  "language_info": {
   "codemirror_mode": {
    "name": "ipython",
    "version": 3
   },
   "file_extension": ".py",
   "mimetype": "text/x-python",
   "name": "python",
   "nbconvert_exporter": "python",
   "pygments_lexer": "ipython3",
   "version": "3.6.9"
  }
 },
 "nbformat": 4,
 "nbformat_minor": 4
}
